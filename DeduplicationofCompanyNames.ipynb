{
 "cells": [
  {
   "cell_type": "markdown",
   "metadata": {},
   "source": [
    "# Overview and Purpose\n"
   ]
  },
  {
   "cell_type": "code",
   "execution_count": 1,
   "metadata": {},
   "outputs": [],
   "source": [
    "##written by Kat Raissi \n",
    "#created on November 22, 2019\n",
    "#last modified on June 22, 2020\n"
   ]
  },
  {
   "cell_type": "code",
   "execution_count": 2,
   "metadata": {},
   "outputs": [],
   "source": [
    "##the following script was written to idenitfy duplicate company names found in a CRM\n",
    "##more specifically, the script identifies issues of missing/added words and mispellings\n",
    "\n",
    "##SPECIAL NOTE: several of the cells are repeated; in an effort to reduce redundacy, explanations and comments are only found with the first instance"
   ]
  },
  {
   "cell_type": "code",
   "execution_count": 3,
   "metadata": {},
   "outputs": [],
   "source": [
    "##issues the script still fails to address:\n",
    "##the script was used on a test company; able to identify all variations EXCEPT when the first word of the company is ommited"
   ]
  },
  {
   "cell_type": "markdown",
   "metadata": {},
   "source": [
    "# Preliminary Actions and Measures"
   ]
  },
  {
   "cell_type": "code",
   "execution_count": 4,
   "metadata": {},
   "outputs": [],
   "source": [
    "##imports necessary packages\n",
    "import pandas as pd\n",
    "from itertools import product, combinations\n",
    "import numpy as np"
   ]
  },
  {
   "cell_type": "code",
   "execution_count": 5,
   "metadata": {},
   "outputs": [
    {
     "data": {
      "text/html": [
       "<div>\n",
       "<style scoped>\n",
       "    .dataframe tbody tr th:only-of-type {\n",
       "        vertical-align: middle;\n",
       "    }\n",
       "\n",
       "    .dataframe tbody tr th {\n",
       "        vertical-align: top;\n",
       "    }\n",
       "\n",
       "    .dataframe thead th {\n",
       "        text-align: right;\n",
       "    }\n",
       "</style>\n",
       "<table border=\"1\" class=\"dataframe\">\n",
       "  <thead>\n",
       "    <tr style=\"text-align: right;\">\n",
       "      <th></th>\n",
       "      <th>Company_ID</th>\n",
       "      <th>Company_Name</th>\n",
       "      <th>Company_Description</th>\n",
       "    </tr>\n",
       "  </thead>\n",
       "  <tbody>\n",
       "    <tr>\n",
       "      <th>0</th>\n",
       "      <td>1</td>\n",
       "      <td>The Color Red</td>\n",
       "      <td>Fakeone</td>\n",
       "    </tr>\n",
       "    <tr>\n",
       "      <th>1</th>\n",
       "      <td>2</td>\n",
       "      <td>Color Red</td>\n",
       "      <td>Faketwo</td>\n",
       "    </tr>\n",
       "    <tr>\n",
       "      <th>2</th>\n",
       "      <td>3</td>\n",
       "      <td>The Color Rad</td>\n",
       "      <td>Fakethree</td>\n",
       "    </tr>\n",
       "    <tr>\n",
       "      <th>3</th>\n",
       "      <td>4</td>\n",
       "      <td>The Col Red</td>\n",
       "      <td>Fakefour</td>\n",
       "    </tr>\n",
       "    <tr>\n",
       "      <th>4</th>\n",
       "      <td>5</td>\n",
       "      <td>The Color Red Inc</td>\n",
       "      <td>Fakefive</td>\n",
       "    </tr>\n",
       "    <tr>\n",
       "      <th>5</th>\n",
       "      <td>6</td>\n",
       "      <td>The Color Red INC</td>\n",
       "      <td>Fakesix</td>\n",
       "    </tr>\n",
       "    <tr>\n",
       "      <th>6</th>\n",
       "      <td>7</td>\n",
       "      <td>The COLOR red</td>\n",
       "      <td>Fakeseven</td>\n",
       "    </tr>\n",
       "    <tr>\n",
       "      <th>7</th>\n",
       "      <td>8</td>\n",
       "      <td>The Red Color</td>\n",
       "      <td>Fakeeight</td>\n",
       "    </tr>\n",
       "    <tr>\n",
       "      <th>8</th>\n",
       "      <td>9</td>\n",
       "      <td>Th Red Color</td>\n",
       "      <td>Fakenine</td>\n",
       "    </tr>\n",
       "    <tr>\n",
       "      <th>9</th>\n",
       "      <td>10</td>\n",
       "      <td>The Red Col</td>\n",
       "      <td>Faketen</td>\n",
       "    </tr>\n",
       "    <tr>\n",
       "      <th>10</th>\n",
       "      <td>11</td>\n",
       "      <td>The Color Red</td>\n",
       "      <td>Fakeeleven</td>\n",
       "    </tr>\n",
       "    <tr>\n",
       "      <th>11</th>\n",
       "      <td>12</td>\n",
       "      <td>Color Red</td>\n",
       "      <td>Faketwelve</td>\n",
       "    </tr>\n",
       "    <tr>\n",
       "      <th>12</th>\n",
       "      <td>13</td>\n",
       "      <td>The Col Rad</td>\n",
       "      <td>Fakethirteen</td>\n",
       "    </tr>\n",
       "  </tbody>\n",
       "</table>\n",
       "</div>"
      ],
      "text/plain": [
       "    Company_ID       Company_Name Company_Description\n",
       "0            1      The Color Red            Fakeone \n",
       "1            2          Color Red             Faketwo\n",
       "2            3      The Color Rad           Fakethree\n",
       "3            4        The Col Red            Fakefour\n",
       "4            5  The Color Red Inc            Fakefive\n",
       "5            6  The Color Red INC             Fakesix\n",
       "6            7      The COLOR red           Fakeseven\n",
       "7            8      The Red Color           Fakeeight\n",
       "8            9      Th Red Color             Fakenine\n",
       "9           10        The Red Col             Faketen\n",
       "10          11      The Color Red          Fakeeleven\n",
       "11          12          Color Red          Faketwelve\n",
       "12          13        The Col Rad        Fakethirteen"
      ]
     },
     "execution_count": 5,
     "metadata": {},
     "output_type": "execute_result"
    }
   ],
   "source": [
    "##creates dataframe and uploads data\n",
    "original=pd.DataFrame()\n",
    "original=pd.read_csv(\"Examples.csv\")\n",
    "original.set_index('Company_ID')\n",
    "original"
   ]
  },
  {
   "cell_type": "markdown",
   "metadata": {},
   "source": [
    "# Exploration "
   ]
  },
  {
   "cell_type": "code",
   "execution_count": 6,
   "metadata": {},
   "outputs": [
    {
     "data": {
      "text/plain": [
       "13"
      ]
     },
     "execution_count": 6,
     "metadata": {},
     "output_type": "execute_result"
    }
   ],
   "source": [
    "##counts the number of rows in the dataframe\n",
    "len(original.index)"
   ]
  },
  {
   "cell_type": "code",
   "execution_count": 7,
   "metadata": {},
   "outputs": [
    {
     "data": {
      "text/plain": [
       "3    9\n",
       "4    2\n",
       "2    2\n",
       "Name: Company_Name, dtype: int64"
      ]
     },
     "execution_count": 7,
     "metadata": {},
     "output_type": "execute_result"
    }
   ],
   "source": [
    "##counts the number of words in a company name\n",
    "count = original[\"Company_Name\"].str.split().apply(len).value_counts()\n",
    "count"
   ]
  },
  {
   "cell_type": "code",
   "execution_count": 8,
   "metadata": {},
   "outputs": [
    {
     "data": {
      "text/plain": [
       "3.0"
      ]
     },
     "execution_count": 8,
     "metadata": {},
     "output_type": "execute_result"
    }
   ],
   "source": [
    "##calculates the mean number of words in a company name using a weighted average\n",
    "weighted_avg = np.average(count.index, weights=count)\n",
    "weighted_avg"
   ]
  },
  {
   "cell_type": "markdown",
   "metadata": {},
   "source": [
    "# Transformation"
   ]
  },
  {
   "cell_type": "code",
   "execution_count": 9,
   "metadata": {},
   "outputs": [
    {
     "data": {
      "text/html": [
       "<div>\n",
       "<style scoped>\n",
       "    .dataframe tbody tr th:only-of-type {\n",
       "        vertical-align: middle;\n",
       "    }\n",
       "\n",
       "    .dataframe tbody tr th {\n",
       "        vertical-align: top;\n",
       "    }\n",
       "\n",
       "    .dataframe thead th {\n",
       "        text-align: right;\n",
       "    }\n",
       "</style>\n",
       "<table border=\"1\" class=\"dataframe\">\n",
       "  <thead>\n",
       "    <tr style=\"text-align: right;\">\n",
       "      <th></th>\n",
       "      <th>0</th>\n",
       "      <th>1</th>\n",
       "      <th>2</th>\n",
       "      <th>3</th>\n",
       "    </tr>\n",
       "  </thead>\n",
       "  <tbody>\n",
       "    <tr>\n",
       "      <th>0</th>\n",
       "      <td>The</td>\n",
       "      <td>Color</td>\n",
       "      <td>Red</td>\n",
       "      <td>None</td>\n",
       "    </tr>\n",
       "    <tr>\n",
       "      <th>1</th>\n",
       "      <td>Color</td>\n",
       "      <td>Red</td>\n",
       "      <td>None</td>\n",
       "      <td>None</td>\n",
       "    </tr>\n",
       "    <tr>\n",
       "      <th>2</th>\n",
       "      <td>The</td>\n",
       "      <td>Color</td>\n",
       "      <td>Rad</td>\n",
       "      <td>None</td>\n",
       "    </tr>\n",
       "    <tr>\n",
       "      <th>3</th>\n",
       "      <td>The</td>\n",
       "      <td>Col</td>\n",
       "      <td>Red</td>\n",
       "      <td>None</td>\n",
       "    </tr>\n",
       "    <tr>\n",
       "      <th>4</th>\n",
       "      <td>The</td>\n",
       "      <td>Color</td>\n",
       "      <td>Red</td>\n",
       "      <td>Inc</td>\n",
       "    </tr>\n",
       "    <tr>\n",
       "      <th>5</th>\n",
       "      <td>The</td>\n",
       "      <td>Color</td>\n",
       "      <td>Red</td>\n",
       "      <td>INC</td>\n",
       "    </tr>\n",
       "    <tr>\n",
       "      <th>6</th>\n",
       "      <td>The</td>\n",
       "      <td>COLOR</td>\n",
       "      <td>red</td>\n",
       "      <td>None</td>\n",
       "    </tr>\n",
       "    <tr>\n",
       "      <th>7</th>\n",
       "      <td>The</td>\n",
       "      <td>Red</td>\n",
       "      <td>Color</td>\n",
       "      <td>None</td>\n",
       "    </tr>\n",
       "    <tr>\n",
       "      <th>8</th>\n",
       "      <td>Th</td>\n",
       "      <td>Red</td>\n",
       "      <td>Color</td>\n",
       "      <td></td>\n",
       "    </tr>\n",
       "    <tr>\n",
       "      <th>9</th>\n",
       "      <td>The</td>\n",
       "      <td>Red</td>\n",
       "      <td>Col</td>\n",
       "      <td>None</td>\n",
       "    </tr>\n",
       "    <tr>\n",
       "      <th>10</th>\n",
       "      <td>The</td>\n",
       "      <td>Color</td>\n",
       "      <td>Red</td>\n",
       "      <td>None</td>\n",
       "    </tr>\n",
       "    <tr>\n",
       "      <th>11</th>\n",
       "      <td>Color</td>\n",
       "      <td>Red</td>\n",
       "      <td>None</td>\n",
       "      <td>None</td>\n",
       "    </tr>\n",
       "    <tr>\n",
       "      <th>12</th>\n",
       "      <td>The</td>\n",
       "      <td>Col</td>\n",
       "      <td>Rad</td>\n",
       "      <td>None</td>\n",
       "    </tr>\n",
       "  </tbody>\n",
       "</table>\n",
       "</div>"
      ],
      "text/plain": [
       "        0      1      2     3\n",
       "0     The  Color    Red  None\n",
       "1   Color    Red   None  None\n",
       "2     The  Color    Rad  None\n",
       "3     The    Col    Red  None\n",
       "4     The  Color    Red   Inc\n",
       "5     The  Color    Red   INC\n",
       "6     The  COLOR    red  None\n",
       "7     The    Red  Color  None\n",
       "8      Th    Red  Color      \n",
       "9     The    Red    Col  None\n",
       "10    The  Color    Red  None\n",
       "11  Color    Red   None  None\n",
       "12    The    Col    Rad  None"
      ]
     },
     "execution_count": 9,
     "metadata": {},
     "output_type": "execute_result"
    }
   ],
   "source": [
    "##splits every company name into separate columns based on spaces\n",
    "##makes all values in the columns strings\n",
    "df = original[\"Company_Name\"].str.split(\" \", expand = True) \n",
    "df = df.applymap(str)\n",
    "df"
   ]
  },
  {
   "cell_type": "code",
   "execution_count": 10,
   "metadata": {},
   "outputs": [
    {
     "data": {
      "text/html": [
       "<div>\n",
       "<style scoped>\n",
       "    .dataframe tbody tr th:only-of-type {\n",
       "        vertical-align: middle;\n",
       "    }\n",
       "\n",
       "    .dataframe tbody tr th {\n",
       "        vertical-align: top;\n",
       "    }\n",
       "\n",
       "    .dataframe thead tr th {\n",
       "        text-align: left;\n",
       "    }\n",
       "</style>\n",
       "<table border=\"1\" class=\"dataframe\">\n",
       "  <thead>\n",
       "    <tr>\n",
       "      <th></th>\n",
       "      <th colspan=\"3\" halign=\"left\">0</th>\n",
       "      <th colspan=\"2\" halign=\"left\">1</th>\n",
       "      <th>2</th>\n",
       "    </tr>\n",
       "    <tr>\n",
       "      <th></th>\n",
       "      <th>1</th>\n",
       "      <th>2</th>\n",
       "      <th>3</th>\n",
       "      <th>2</th>\n",
       "      <th>3</th>\n",
       "      <th>3</th>\n",
       "    </tr>\n",
       "  </thead>\n",
       "  <tbody>\n",
       "    <tr>\n",
       "      <th>0</th>\n",
       "      <td>ColorThe</td>\n",
       "      <td>RedThe</td>\n",
       "      <td>NoneThe</td>\n",
       "      <td>RedColor</td>\n",
       "      <td>NoneColor</td>\n",
       "      <td>NoneRed</td>\n",
       "    </tr>\n",
       "    <tr>\n",
       "      <th>1</th>\n",
       "      <td>RedColor</td>\n",
       "      <td>NoneColor</td>\n",
       "      <td>NoneColor</td>\n",
       "      <td>NoneRed</td>\n",
       "      <td>NoneRed</td>\n",
       "      <td>NoneNone</td>\n",
       "    </tr>\n",
       "    <tr>\n",
       "      <th>2</th>\n",
       "      <td>ColorThe</td>\n",
       "      <td>RadThe</td>\n",
       "      <td>NoneThe</td>\n",
       "      <td>RadColor</td>\n",
       "      <td>NoneColor</td>\n",
       "      <td>NoneRad</td>\n",
       "    </tr>\n",
       "    <tr>\n",
       "      <th>3</th>\n",
       "      <td>ColThe</td>\n",
       "      <td>RedThe</td>\n",
       "      <td>NoneThe</td>\n",
       "      <td>RedCol</td>\n",
       "      <td>NoneCol</td>\n",
       "      <td>NoneRed</td>\n",
       "    </tr>\n",
       "    <tr>\n",
       "      <th>4</th>\n",
       "      <td>ColorThe</td>\n",
       "      <td>RedThe</td>\n",
       "      <td>IncThe</td>\n",
       "      <td>RedColor</td>\n",
       "      <td>IncColor</td>\n",
       "      <td>IncRed</td>\n",
       "    </tr>\n",
       "    <tr>\n",
       "      <th>5</th>\n",
       "      <td>ColorThe</td>\n",
       "      <td>RedThe</td>\n",
       "      <td>INCThe</td>\n",
       "      <td>RedColor</td>\n",
       "      <td>INCColor</td>\n",
       "      <td>INCRed</td>\n",
       "    </tr>\n",
       "    <tr>\n",
       "      <th>6</th>\n",
       "      <td>COLORThe</td>\n",
       "      <td>redThe</td>\n",
       "      <td>NoneThe</td>\n",
       "      <td>redCOLOR</td>\n",
       "      <td>NoneCOLOR</td>\n",
       "      <td>Nonered</td>\n",
       "    </tr>\n",
       "    <tr>\n",
       "      <th>7</th>\n",
       "      <td>RedThe</td>\n",
       "      <td>ColorThe</td>\n",
       "      <td>NoneThe</td>\n",
       "      <td>ColorRed</td>\n",
       "      <td>NoneRed</td>\n",
       "      <td>NoneColor</td>\n",
       "    </tr>\n",
       "    <tr>\n",
       "      <th>8</th>\n",
       "      <td>RedTh</td>\n",
       "      <td>ColorTh</td>\n",
       "      <td>Th</td>\n",
       "      <td>ColorRed</td>\n",
       "      <td>Red</td>\n",
       "      <td>Color</td>\n",
       "    </tr>\n",
       "    <tr>\n",
       "      <th>9</th>\n",
       "      <td>RedThe</td>\n",
       "      <td>ColThe</td>\n",
       "      <td>NoneThe</td>\n",
       "      <td>ColRed</td>\n",
       "      <td>NoneRed</td>\n",
       "      <td>NoneCol</td>\n",
       "    </tr>\n",
       "    <tr>\n",
       "      <th>10</th>\n",
       "      <td>ColorThe</td>\n",
       "      <td>RedThe</td>\n",
       "      <td>NoneThe</td>\n",
       "      <td>RedColor</td>\n",
       "      <td>NoneColor</td>\n",
       "      <td>NoneRed</td>\n",
       "    </tr>\n",
       "    <tr>\n",
       "      <th>11</th>\n",
       "      <td>RedColor</td>\n",
       "      <td>NoneColor</td>\n",
       "      <td>NoneColor</td>\n",
       "      <td>NoneRed</td>\n",
       "      <td>NoneRed</td>\n",
       "      <td>NoneNone</td>\n",
       "    </tr>\n",
       "    <tr>\n",
       "      <th>12</th>\n",
       "      <td>ColThe</td>\n",
       "      <td>RadThe</td>\n",
       "      <td>NoneThe</td>\n",
       "      <td>RadCol</td>\n",
       "      <td>NoneCol</td>\n",
       "      <td>NoneRad</td>\n",
       "    </tr>\n",
       "  </tbody>\n",
       "</table>\n",
       "</div>"
      ],
      "text/plain": [
       "           0                               1                     2\n",
       "           1          2          3         2          3          3\n",
       "0   ColorThe     RedThe    NoneThe  RedColor  NoneColor    NoneRed\n",
       "1   RedColor  NoneColor  NoneColor   NoneRed    NoneRed   NoneNone\n",
       "2   ColorThe     RadThe    NoneThe  RadColor  NoneColor    NoneRad\n",
       "3     ColThe     RedThe    NoneThe    RedCol    NoneCol    NoneRed\n",
       "4   ColorThe     RedThe     IncThe  RedColor   IncColor     IncRed\n",
       "5   ColorThe     RedThe     INCThe  RedColor   INCColor     INCRed\n",
       "6   COLORThe     redThe    NoneThe  redCOLOR  NoneCOLOR    Nonered\n",
       "7     RedThe   ColorThe    NoneThe  ColorRed    NoneRed  NoneColor\n",
       "8      RedTh    ColorTh         Th  ColorRed        Red      Color\n",
       "9     RedThe     ColThe    NoneThe    ColRed    NoneRed    NoneCol\n",
       "10  ColorThe     RedThe    NoneThe  RedColor  NoneColor    NoneRed\n",
       "11  RedColor  NoneColor  NoneColor   NoneRed    NoneRed   NoneNone\n",
       "12    ColThe     RadThe    NoneThe    RadCol    NoneCol    NoneRad"
      ]
     },
     "execution_count": 10,
     "metadata": {},
     "output_type": "execute_result"
    }
   ],
   "source": [
    "##uses itertools to make every two column combination \n",
    "cc = list(combinations(df.columns,2))\n",
    "df = pd.concat([df[c[1]] + df[c[0]] for c in cc], axis=1, keys=cc)\n",
    "df"
   ]
  },
  {
   "cell_type": "markdown",
   "metadata": {},
   "source": [
    "# Multi-column Search"
   ]
  },
  {
   "cell_type": "code",
   "execution_count": 11,
   "metadata": {},
   "outputs": [
    {
     "data": {
      "text/plain": [
       "2"
      ]
     },
     "execution_count": 11,
     "metadata": {},
     "output_type": "execute_result"
    }
   ],
   "source": [
    "##counts the duplicates in the dataframe\n",
    "##all the column combinations didnot create dupes \n",
    "duplicates=df.duplicated().sum()\n",
    "duplicates"
   ]
  },
  {
   "cell_type": "code",
   "execution_count": 12,
   "metadata": {},
   "outputs": [],
   "source": [
    "##shows the duplicates previously found in the dataframe\n",
    "firstround = df[df.duplicated(keep='first')]\n",
    "firstround.to_excel('firstround.xlsx')"
   ]
  },
  {
   "cell_type": "code",
   "execution_count": 13,
   "metadata": {
    "scrolled": false
   },
   "outputs": [],
   "source": [
    "##drops the duplicates from the dataframe\n",
    "df.drop_duplicates(keep=False,inplace=True) "
   ]
  },
  {
   "cell_type": "code",
   "execution_count": 14,
   "metadata": {},
   "outputs": [
    {
     "data": {
      "text/plain": [
       "1"
      ]
     },
     "execution_count": 14,
     "metadata": {},
     "output_type": "execute_result"
    }
   ],
   "source": [
    "##counts the perceived duplicates when considering less columns \n",
    "dftest = df.iloc[:,0:2]\n",
    "duplicates=dftest.duplicated().sum()\n",
    "duplicates"
   ]
  },
  {
   "cell_type": "code",
   "execution_count": 15,
   "metadata": {},
   "outputs": [
    {
     "data": {
      "text/plain": [
       "1"
      ]
     },
     "execution_count": 15,
     "metadata": {},
     "output_type": "execute_result"
    }
   ],
   "source": [
    "##creates a new dataframe with the duplicates dropped \n",
    "####counts the perceived duplicates to check that it matches with previous dataframe\n",
    "df1=pd.DataFrame()\n",
    "df1=df[df.columns[0:2]]\n",
    "df1=df1.copy(deep=True)\n",
    "duplicates=df1.duplicated().sum()\n",
    "duplicates"
   ]
  },
  {
   "cell_type": "code",
   "execution_count": 16,
   "metadata": {},
   "outputs": [],
   "source": [
    "##the following cell repeat the previous steps for additional rounds of search \n",
    "secondround = df1[df1.duplicated(keep=False)]\n",
    "secondround.to_excel('secondround.xlsx')\n",
    "df1.drop_duplicates(keep=False,inplace=True)"
   ]
  },
  {
   "cell_type": "code",
   "execution_count": 17,
   "metadata": {},
   "outputs": [
    {
     "data": {
      "text/plain": [
       "2"
      ]
     },
     "execution_count": 17,
     "metadata": {},
     "output_type": "execute_result"
    }
   ],
   "source": [
    "##the following cell repeat the previous steps for additional rounds of search \n",
    "dftest = df1.iloc[:,0:1]\n",
    "duplicates=dftest.duplicated().sum()\n",
    "duplicates"
   ]
  },
  {
   "cell_type": "code",
   "execution_count": 18,
   "metadata": {},
   "outputs": [
    {
     "data": {
      "text/plain": [
       "2"
      ]
     },
     "execution_count": 18,
     "metadata": {},
     "output_type": "execute_result"
    }
   ],
   "source": [
    "##the following cell repeat the previous steps for additional rounds of search \n",
    "df2=pd.DataFrame()\n",
    "df2=df1[df1.columns[0:1]]\n",
    "df2=df2.copy(deep=True)\n",
    "duplicates=df2.duplicated().sum()\n",
    "duplicates"
   ]
  },
  {
   "cell_type": "code",
   "execution_count": 19,
   "metadata": {},
   "outputs": [],
   "source": [
    "##the following cell repeat the previous steps for additional rounds of search \n",
    "thirdround = df2[df2.duplicated(keep=False)]\n",
    "thirdround.to_excel(r'thirdround.xlsx')\n",
    "df2.drop_duplicates(keep=False,inplace=True)"
   ]
  },
  {
   "cell_type": "code",
   "execution_count": 20,
   "metadata": {},
   "outputs": [
    {
     "data": {
      "text/html": [
       "<div>\n",
       "<style scoped>\n",
       "    .dataframe tbody tr th:only-of-type {\n",
       "        vertical-align: middle;\n",
       "    }\n",
       "\n",
       "    .dataframe tbody tr th {\n",
       "        vertical-align: top;\n",
       "    }\n",
       "\n",
       "    .dataframe thead tr th {\n",
       "        text-align: left;\n",
       "    }\n",
       "</style>\n",
       "<table border=\"1\" class=\"dataframe\">\n",
       "  <thead>\n",
       "    <tr>\n",
       "      <th></th>\n",
       "      <th>0</th>\n",
       "    </tr>\n",
       "    <tr>\n",
       "      <th></th>\n",
       "      <th>1</th>\n",
       "    </tr>\n",
       "  </thead>\n",
       "  <tbody>\n",
       "    <tr>\n",
       "      <th>2</th>\n",
       "      <td>ColorThe</td>\n",
       "    </tr>\n",
       "    <tr>\n",
       "      <th>6</th>\n",
       "      <td>COLORThe</td>\n",
       "    </tr>\n",
       "    <tr>\n",
       "      <th>8</th>\n",
       "      <td>RedTh</td>\n",
       "    </tr>\n",
       "  </tbody>\n",
       "</table>\n",
       "</div>"
      ],
      "text/plain": [
       "          0\n",
       "          1\n",
       "2  ColorThe\n",
       "6  COLORThe\n",
       "8     RedTh"
      ]
     },
     "execution_count": 20,
     "metadata": {},
     "output_type": "execute_result"
    }
   ],
   "source": [
    "##demosntrates how many additional duplicates are left\n",
    "##from the dataframe below, it can be seen that only the company and two additional duplicates remain \n",
    "df2.head()"
   ]
  }
 ],
 "metadata": {
  "kernelspec": {
   "display_name": "Python 3",
   "language": "python",
   "name": "python3"
  },
  "language_info": {
   "codemirror_mode": {
    "name": "ipython",
    "version": 3
   },
   "file_extension": ".py",
   "mimetype": "text/x-python",
   "name": "python",
   "nbconvert_exporter": "python",
   "pygments_lexer": "ipython3",
   "version": "3.7.6"
  }
 },
 "nbformat": 4,
 "nbformat_minor": 2
}
